{
 "cells": [
  {
   "cell_type": "markdown",
   "id": "97b106c9-cdcc-49ce-9a71-8216a901bd83",
   "metadata": {},
   "source": [
    "## for loop"
   ]
  },
  {
   "cell_type": "code",
   "execution_count": 13,
   "id": "e66515ce-274d-4d3d-924f-eeb61ea2a6d8",
   "metadata": {},
   "outputs": [
    {
     "name": "stdin",
     "output_type": "stream",
     "text": [
      "enter product price 50\n"
     ]
    },
    {
     "name": "stdout",
     "output_type": "stream",
     "text": [
      "yes\n"
     ]
    }
   ],
   "source": [
    "Product_price=int(input(\"enter product price\"))\n",
    "if Product_price<=100:\n",
    "    print(\"yes\")\n",
    "else: \n",
    "        Print(\"No\")"
   ]
  },
  {
   "cell_type": "code",
   "execution_count": 15,
   "id": "a4a6d9c3-94ee-4bd8-a56a-d1be9535e3a1",
   "metadata": {},
   "outputs": [],
   "source": [
    "list=['pras',1,2,3,4,'mango','banana']"
   ]
  },
  {
   "cell_type": "code",
   "execution_count": 18,
   "id": "ab5e8789-99b4-49bb-92ee-b5a9681103cf",
   "metadata": {},
   "outputs": [
    {
     "data": {
      "text/plain": [
       "int"
      ]
     },
     "execution_count": 18,
     "metadata": {},
     "output_type": "execute_result"
    }
   ],
   "source": [
    "type(1)"
   ]
  },
  {
   "cell_type": "code",
   "execution_count": 20,
   "id": "3c760780-44d7-4e77-a715-611774b9ff7f",
   "metadata": {},
   "outputs": [
    {
     "name": "stdout",
     "output_type": "stream",
     "text": [
      "pras\n",
      "1\n",
      "2\n",
      "3\n",
      "4\n",
      "mango\n",
      "banana\n"
     ]
    }
   ],
   "source": [
    "for x in list:\n",
    "    print(x)"
   ]
  },
  {
   "cell_type": "code",
   "execution_count": 26,
   "id": "ec2bad50-7534-482a-8f46-4d4c2d673846",
   "metadata": {},
   "outputs": [],
   "source": [
    "fruits_list=[\"apple\",\"mango\",\"banana\",\"papaya\",\"jackfruit\"]"
   ]
  },
  {
   "cell_type": "raw",
   "id": "0e2a0bc2-08e7-4c1e-a7d6-f1dd95a99584",
   "metadata": {},
   "source": [
    "fru_lst=[\"apple\",\"mango\",\"banana\",\"papaya\",\"jackfruit\"]\n",
    "for x in fru_list:\n",
    "print(x)\n",
    "if x==\"mango\":\n",
    "print(\"The fruit is mango\")\n",
    "break\n",
    "\n"
   ]
  },
  {
   "cell_type": "code",
   "execution_count": 31,
   "id": "c992cb1c-8d9c-4359-9623-522c32460d69",
   "metadata": {},
   "outputs": [
    {
     "name": "stdout",
     "output_type": "stream",
     "text": [
      "mango"
     ]
    }
   ],
   "source": [
    "fruit='mango'\n",
    "for x in fruit:\n",
    "    print(x,end='')"
   ]
  },
  {
   "cell_type": "code",
   "execution_count": 30,
   "id": "d991afec-abed-452d-8474-e097a8cdfebd",
   "metadata": {},
   "outputs": [
    {
     "data": {
      "text/plain": [
       "'a'"
      ]
     },
     "execution_count": 30,
     "metadata": {},
     "output_type": "execute_result"
    }
   ],
   "source": [
    "fruit[1]"
   ]
  },
  {
   "cell_type": "code",
   "execution_count": 32,
   "id": "0aa9115f-2d53-45a7-a588-6026f4b5afdb",
   "metadata": {},
   "outputs": [],
   "source": [
    "### Nested loops\n",
    "n=7\n"
   ]
  },
  {
   "cell_type": "code",
   "execution_count": 39,
   "id": "22839560-852c-4942-8591-6b605c30bf6d",
   "metadata": {},
   "outputs": [
    {
     "name": "stdout",
     "output_type": "stream",
     "text": [
      "1\n",
      "3\n",
      "5\n"
     ]
    }
   ],
   "source": [
    "## range\n",
    "for i in range(1,6,2):\n",
    "    print(i)"
   ]
  },
  {
   "cell_type": "code",
   "execution_count": 64,
   "id": "8e183273-934f-44a0-b540-069ff1003e83",
   "metadata": {},
   "outputs": [
    {
     "name": "stdout",
     "output_type": "stream",
     "text": [
      "* \n",
      "* * \n",
      "* * * \n",
      "* * * * \n",
      "* * * * * \n",
      "* * * * * * \n",
      "* * * * * * * \n"
     ]
    }
   ],
   "source": [
    "## nested loops\n",
    "n=7\n",
    "\n",
    "for i in range(0,n):\n",
    "    for j in range(0,i+1):\n",
    "        print(\"*\",end=\" \")\n",
    "    print(\"\\r\")"
   ]
  },
  {
   "cell_type": "code",
   "execution_count": 51,
   "id": "a291e496-12e5-4dd7-9009-f86f75df669f",
   "metadata": {},
   "outputs": [],
   "source": [
    "## loop controls\n",
    "## break and continue\n",
    "fruits_list = [\"mango\",\"cherry\",\"banana\",\"apple\",\"cucu\"]"
   ]
  },
  {
   "cell_type": "code",
   "execution_count": 59,
   "id": "050c1475-840c-478c-a75f-5002f7cac1e5",
   "metadata": {},
   "outputs": [
    {
     "name": "stdout",
     "output_type": "stream",
     "text": [
      "mango\n",
      "cherry\n",
      "banana\n",
      "fruit is apple\n",
      "cucu\n"
     ]
    }
   ],
   "source": [
    "## continue\n",
    "for j in fruits_list:\n",
    "    if j==\"apple\":\n",
    "        print(\"fruit is apple\")\n",
    "        continue\n",
    "    print(j)"
   ]
  },
  {
   "cell_type": "code",
   "execution_count": 61,
   "id": "3516a8e2-13a6-4d67-a35b-1292732f8290",
   "metadata": {},
   "outputs": [
    {
     "name": "stdout",
     "output_type": "stream",
     "text": [
      "mango\n",
      "cherry\n",
      "banana\n",
      "fruit is apple\n",
      "apple\n",
      "cucu\n"
     ]
    }
   ],
   "source": [
    "## pass \n",
    "for j in fruits_list:\n",
    "    if j==\"apple\":\n",
    "        print(\"fruit is apple\")\n",
    "        pass\n",
    "    print(j)"
   ]
  },
  {
   "cell_type": "code",
   "execution_count": 65,
   "id": "89b1c2d4-0720-4e63-8448-b39411edc83d",
   "metadata": {},
   "outputs": [
    {
     "name": "stdout",
     "output_type": "stream",
     "text": [
      "mango\n",
      "cherry\n",
      "banana\n",
      "fruit is apple\n",
      "apple\n",
      "cucu\n"
     ]
    }
   ],
   "source": [
    "## continue\n",
    "for j in fruits_list:\n",
    "    if j==\"apple\":\n",
    "        print(\"fruit is apple\")\n",
    "        \n",
    "    print(j)\n"
   ]
  },
  {
   "cell_type": "markdown",
   "id": "dcea9064-3bc9-4378-bed9-ba45692eaa77",
   "metadata": {},
   "source": [
    "## logical operators\n",
    "1. And\n",
    "2. or\n",
    "3. not\n"
   ]
  },
  {
   "cell_type": "code",
   "execution_count": 66,
   "id": "844bb8f2-db87-4b64-b75e-22d17b9c6e05",
   "metadata": {},
   "outputs": [
    {
     "data": {
      "text/plain": [
       "True"
      ]
     },
     "execution_count": 66,
     "metadata": {},
     "output_type": "execute_result"
    }
   ],
   "source": [
    "True and True"
   ]
  },
  {
   "cell_type": "code",
   "execution_count": 67,
   "id": "1d26f1cd-3d6d-4f95-bc23-4809b9e30cc2",
   "metadata": {},
   "outputs": [
    {
     "data": {
      "text/plain": [
       "True"
      ]
     },
     "execution_count": 67,
     "metadata": {},
     "output_type": "execute_result"
    }
   ],
   "source": [
    "True or False"
   ]
  },
  {
   "cell_type": "code",
   "execution_count": 68,
   "id": "b293d743-8f91-4ce0-a701-56026205e629",
   "metadata": {},
   "outputs": [
    {
     "name": "stdout",
     "output_type": "stream",
     "text": [
      "define value of START = True\n",
      "define value of STOP = False \n",
      "\n",
      "define value of START = True\n",
      "value of STOP negating START = False \n",
      "\n",
      "value of START by negating STOP = True\n",
      "define value of STOP = False \n",
      "\n"
     ]
    }
   ],
   "source": [
    "## Lets define two variables having boolean values True and False\n",
    "START = True\n",
    "STOP = False\n",
    "# print the value as it is\n",
    "print(f\"define value of START = {START}\")\n",
    "print(f\"define value of STOP = {STOP} \\n\")\n",
    "\n",
    "#if can also be written as \n",
    "print(f\"define value of START = {START}\")\n",
    "print(f\"value of STOP negating START = {not START} \\n\")\n",
    "\n",
    "#alternatively\n",
    "print(f\"value of START by negating STOP = {not STOP}\")\n",
    "print(f\"define value of STOP = {STOP} \\n\")"
   ]
  },
  {
   "cell_type": "code",
   "execution_count": 70,
   "id": "a7cf7bcd-cd5e-45bd-8bcf-a2b699052a3f",
   "metadata": {},
   "outputs": [
    {
     "data": {
      "text/plain": [
       "True"
      ]
     },
     "execution_count": 70,
     "metadata": {},
     "output_type": "execute_result"
    }
   ],
   "source": [
    "not int(bool(0))"
   ]
  },
  {
   "cell_type": "code",
   "execution_count": 73,
   "id": "b7d9f626-211f-4e1f-8eef-c189a94fed68",
   "metadata": {},
   "outputs": [
    {
     "data": {
      "text/plain": [
       "1"
      ]
     },
     "execution_count": 73,
     "metadata": {},
     "output_type": "execute_result"
    }
   ],
   "source": [
    "int(bool(1))"
   ]
  },
  {
   "cell_type": "code",
   "execution_count": 74,
   "id": "2c7debb1-e421-4393-81a5-888a830647d1",
   "metadata": {},
   "outputs": [
    {
     "data": {
      "text/plain": [
       "False"
      ]
     },
     "execution_count": 74,
     "metadata": {},
     "output_type": "execute_result"
    }
   ],
   "source": [
    "not 1"
   ]
  },
  {
   "cell_type": "code",
   "execution_count": 75,
   "id": "f10a463f-b581-4b95-8f31-f3ebff94da0a",
   "metadata": {},
   "outputs": [
    {
     "data": {
      "text/plain": [
       "True"
      ]
     },
     "execution_count": 75,
     "metadata": {},
     "output_type": "execute_result"
    }
   ],
   "source": [
    "not 0"
   ]
  },
  {
   "cell_type": "code",
   "execution_count": 76,
   "id": "8187d7d4-89cd-4e26-b100-ac87b2d1d572",
   "metadata": {},
   "outputs": [
    {
     "name": "stdout",
     "output_type": "stream",
     "text": [
      "define value of START = 1\n",
      "define value of STOP = 0 \n",
      "\n",
      "define value of START = 1\n",
      "value of STOP negating START = False \n",
      "\n",
      "value of START by negating STOP = True\n",
      "define value of STOP = 0 \n",
      "\n"
     ]
    }
   ],
   "source": [
    "## Lets define two variables having boolean values True and False\n",
    "START = 1\n",
    "STOP = 0\n",
    "# print the value as it is\n",
    "print(f\"define value of START = {START}\")\n",
    "print(f\"define value of STOP = {STOP} \\n\")\n",
    "\n",
    "#if can also be written as \n",
    "print(f\"define value of START = {START}\")\n",
    "print(f\"value of STOP negating START = {not START} \\n\")\n",
    "\n",
    "#alternatively\n",
    "print(f\"value of START by negating STOP = {not STOP}\")\n",
    "print(f\"define value of STOP = {STOP} \\n\")"
   ]
  },
  {
   "cell_type": "code",
   "execution_count": 77,
   "id": "377f7f4a-fc9e-4c7e-b6e2-d433a7b16950",
   "metadata": {},
   "outputs": [
    {
     "name": "stdout",
     "output_type": "stream",
     "text": [
      "boolean value of no. 0 is False\n",
      "boolean value of no. 1 is True\n",
      "negation of 0 is True and negation of 1 is False\n",
      "\n",
      "#-------------#\n",
      "\n"
     ]
    }
   ],
   "source": [
    "zero = 0 \n",
    "one = 1\n",
    "print(f\"boolean value of no. {zero} is {bool(zero)}\")\n",
    "print(f\"boolean value of no. {one} is {bool(one)}\")\n",
    "print(f\"negation of {zero} is {not zero} and negation of {one} is {not one}\")\n",
    "print(\"\\n#-------------#\\n\")"
   ]
  },
  {
   "cell_type": "code",
   "execution_count": 80,
   "id": "74215ce3-44a1-4971-a662-e682df403cb2",
   "metadata": {},
   "outputs": [
    {
     "name": "stdout",
     "output_type": "stream",
     "text": [
      "boolean value of no. -5 is True\n",
      "boolean value of no. 5 is True\n",
      "negation of -5 is False \\ and negation of 5 is False\n",
      "\n",
      "#-------------#\n",
      "\n"
     ]
    }
   ],
   "source": [
    "some_negative_integer = -5\n",
    "some_positive_integer = 5\n",
    "print(f\"boolean value of no. {some_negative_integer} is {bool(some_negative_integer)}\")\n",
    "print(f\"boolean value of no. {some_positive_integer} is {bool(some_positive_integer)}\")\n",
    "print(f\"negation of {some_negative_integer} is {not some_negative_integer} \\ and negation of {some_positive_integer} is {not some_positive_integer}\")\n",
    "print(\"\\n#-------------#\\n\")"
   ]
  },
  {
   "cell_type": "markdown",
   "id": "cc75cb60-c589-4d1e-85de-5dfc84646162",
   "metadata": {},
   "source": [
    "Logical And"
   ]
  },
  {
   "cell_type": "code",
   "execution_count": 81,
   "id": "58a55bfe-23c0-462d-af05-ac7d786e3f95",
   "metadata": {},
   "outputs": [
    {
     "name": "stdout",
     "output_type": "stream",
     "text": [
      "Dish contains VEGETABLES: True \n",
      "Dish contains SALT: False \n",
      "Hence dish prepared was good: False\n",
      " \n"
     ]
    }
   ],
   "source": [
    "VEGETABLES = True \n",
    "SALT = False\n",
    "DISH = VEGETABLES and SALT\n",
    "\n",
    "print(f\"Dish contains VEGETABLES: {VEGETABLES} \")\n",
    "print(f\"Dish contains SALT: {SALT} \")\n",
    "print(f\"Hence dish prepared was good: {DISH}\\n \")"
   ]
  },
  {
   "cell_type": "code",
   "execution_count": 83,
   "id": "7e39def5-0670-41de-9d80-d3b7f63e110f",
   "metadata": {},
   "outputs": [
    {
     "data": {
      "text/plain": [
       "True"
      ]
     },
     "execution_count": 83,
     "metadata": {},
     "output_type": "execute_result"
    }
   ],
   "source": [
    "not(False)"
   ]
  },
  {
   "cell_type": "code",
   "execution_count": 84,
   "id": "0f671f1a-5413-44d4-9a37-9bd7ea6a2b76",
   "metadata": {},
   "outputs": [
    {
     "data": {
      "text/plain": [
       "9"
      ]
     },
     "execution_count": 84,
     "metadata": {},
     "output_type": "execute_result"
    }
   ],
   "source": [
    "(1+2)*3"
   ]
  },
  {
   "cell_type": "code",
   "execution_count": 1,
   "id": "0625ca9c-5795-4337-8c3b-8b1f097870e7",
   "metadata": {},
   "outputs": [],
   "source": [
    "## comparison operation"
   ]
  },
  {
   "cell_type": "code",
   "execution_count": 2,
   "id": "423175ea-4a96-4686-b637-b08765ad17a9",
   "metadata": {},
   "outputs": [
    {
     "name": "stdout",
     "output_type": "stream",
     "text": [
      "bike is fater than car:False\n"
     ]
    }
   ],
   "source": [
    "maximum_speed_of_bike = 150\n",
    "max_speed_of_car = 200\n",
    "\n",
    "print(f\"bike is fater than car:{maximum_speed_of_bike > max_speed_of_car}\")\n"
   ]
  },
  {
   "cell_type": "code",
   "execution_count": 3,
   "id": "34ba09b7-457d-44a7-9994-69460fce172a",
   "metadata": {},
   "outputs": [
    {
     "name": "stdout",
     "output_type": "stream",
     "text": [
      "bike is fater than car:True\n"
     ]
    }
   ],
   "source": [
    "maximum_speed_of_bike = 200\n",
    "max_speed_of_car = 200\n",
    "\n",
    "print(f\"bike is fater than car:{maximum_speed_of_bike >= max_speed_of_car}\")\n"
   ]
  },
  {
   "cell_type": "markdown",
   "id": "a42e5844-4fd1-4372-a442-4383cba7221a",
   "metadata": {},
   "source": [
    "## Arithmetic operations"
   ]
  },
  {
   "cell_type": "code",
   "execution_count": 6,
   "id": "cf7f7e07-1feb-4d15-87fb-8269b0258c38",
   "metadata": {},
   "outputs": [],
   "source": [
    "a=25\n",
    "b=101"
   ]
  },
  {
   "cell_type": "code",
   "execution_count": 7,
   "id": "7a39d120-d7ca-409e-8de1-eab26f51e7af",
   "metadata": {},
   "outputs": [
    {
     "data": {
      "text/plain": [
       "2525"
      ]
     },
     "execution_count": 7,
     "metadata": {},
     "output_type": "execute_result"
    }
   ],
   "source": [
    "b*a"
   ]
  },
  {
   "cell_type": "code",
   "execution_count": 8,
   "id": "44c0e255-9525-4a75-8560-565b11f8b144",
   "metadata": {},
   "outputs": [
    {
     "data": {
      "text/plain": [
       "126"
      ]
     },
     "execution_count": 8,
     "metadata": {},
     "output_type": "execute_result"
    }
   ],
   "source": [
    "b+a"
   ]
  },
  {
   "cell_type": "code",
   "execution_count": 9,
   "id": "5c1b2d6d-6e52-4703-bd8b-39e7ff86912b",
   "metadata": {},
   "outputs": [
    {
     "data": {
      "text/plain": [
       "4.04"
      ]
     },
     "execution_count": 9,
     "metadata": {},
     "output_type": "execute_result"
    }
   ],
   "source": [
    "b/a"
   ]
  },
  {
   "cell_type": "code",
   "execution_count": 10,
   "id": "81e361f6-494e-4c4f-8fc4-93c9210f2db6",
   "metadata": {},
   "outputs": [
    {
     "data": {
      "text/plain": [
       "0"
      ]
     },
     "execution_count": 10,
     "metadata": {},
     "output_type": "execute_result"
    }
   ],
   "source": [
    "a//b"
   ]
  },
  {
   "cell_type": "code",
   "execution_count": 11,
   "id": "a66a91dc-8f9c-40e0-b94b-146301a48a9b",
   "metadata": {},
   "outputs": [
    {
     "data": {
      "text/plain": [
       "4"
      ]
     },
     "execution_count": 11,
     "metadata": {},
     "output_type": "execute_result"
    }
   ],
   "source": [
    "b//a"
   ]
  },
  {
   "cell_type": "code",
   "execution_count": 13,
   "id": "6d8a5ce6-ac01-45c5-bfa1-8ba6222ff4cd",
   "metadata": {},
   "outputs": [
    {
     "data": {
      "text/plain": [
       "0.24752475247524752"
      ]
     },
     "execution_count": 13,
     "metadata": {},
     "output_type": "execute_result"
    }
   ],
   "source": [
    "a/b"
   ]
  },
  {
   "cell_type": "code",
   "execution_count": 14,
   "id": "805ff67d-0b78-451d-82a8-50a8c3e7b8a2",
   "metadata": {},
   "outputs": [
    {
     "data": {
      "text/plain": [
       "1"
      ]
     },
     "execution_count": 14,
     "metadata": {},
     "output_type": "execute_result"
    }
   ],
   "source": [
    "b%a"
   ]
  },
  {
   "cell_type": "code",
   "execution_count": 15,
   "id": "5d7c667a-9999-4622-8bab-f22409565b5e",
   "metadata": {},
   "outputs": [
    {
     "data": {
      "text/plain": [
       "25"
      ]
     },
     "execution_count": 15,
     "metadata": {},
     "output_type": "execute_result"
    }
   ],
   "source": [
    "a%b"
   ]
  },
  {
   "cell_type": "code",
   "execution_count": 17,
   "id": "b1c7ad94-5dac-4a1c-be78-f4b9849deb90",
   "metadata": {},
   "outputs": [
    {
     "data": {
      "text/plain": [
       "25"
      ]
     },
     "execution_count": 17,
     "metadata": {},
     "output_type": "execute_result"
    }
   ],
   "source": [
    "## display the remainder\n",
    "a%b"
   ]
  },
  {
   "cell_type": "markdown",
   "id": "63a59f98-31e1-4ad9-9ba0-843dc3cd0016",
   "metadata": {},
   "source": [
    "bitwise operators"
   ]
  },
  {
   "cell_type": "code",
   "execution_count": 18,
   "id": "5584d382-bac5-4e94-a8c8-eedae1d8a509",
   "metadata": {},
   "outputs": [
    {
     "data": {
      "text/plain": [
       "'0b1010'"
      ]
     },
     "execution_count": 18,
     "metadata": {},
     "output_type": "execute_result"
    }
   ],
   "source": [
    "var = 10\n",
    "bin(var)"
   ]
  },
  {
   "cell_type": "code",
   "execution_count": 19,
   "id": "3497ff37-7830-4186-868c-02484b902b19",
   "metadata": {},
   "outputs": [
    {
     "data": {
      "text/plain": [
       "-11"
      ]
     },
     "execution_count": 19,
     "metadata": {},
     "output_type": "execute_result"
    }
   ],
   "source": [
    "~var"
   ]
  },
  {
   "cell_type": "markdown",
   "id": "90875ab5-1af6-4524-be8c-2c0d7f64d90f",
   "metadata": {},
   "source": [
    "## strings"
   ]
  },
  {
   "cell_type": "code",
   "execution_count": 20,
   "id": "2c522d2b-2b16-4dc5-aef6-368d9708ca48",
   "metadata": {},
   "outputs": [
    {
     "data": {
      "text/plain": [
       "5"
      ]
     },
     "execution_count": 20,
     "metadata": {},
     "output_type": "execute_result"
    }
   ],
   "source": [
    "var >>1"
   ]
  },
  {
   "cell_type": "code",
   "execution_count": 21,
   "id": "bc91e5d2-111b-4f53-8556-d367692466d4",
   "metadata": {},
   "outputs": [
    {
     "data": {
      "text/plain": [
       "20"
      ]
     },
     "execution_count": 21,
     "metadata": {},
     "output_type": "execute_result"
    }
   ],
   "source": [
    "var << 1"
   ]
  },
  {
   "cell_type": "markdown",
   "id": "0819c209-ba60-4b85-af3b-c675a2338da9",
   "metadata": {},
   "source": [
    "strings"
   ]
  },
  {
   "cell_type": "code",
   "execution_count": 22,
   "id": "dc34a24e-3d32-44ea-918d-2dd82bdc97e7",
   "metadata": {},
   "outputs": [
    {
     "data": {
      "text/plain": [
       "'prsad'"
      ]
     },
     "execution_count": 22,
     "metadata": {},
     "output_type": "execute_result"
    }
   ],
   "source": [
    "\"Welcome to home\"\n",
    "'prsad'"
   ]
  },
  {
   "cell_type": "code",
   "execution_count": 23,
   "id": "112749a7-3d46-4c42-83d6-ca0b56400fc9",
   "metadata": {},
   "outputs": [],
   "source": [
    "str1=\"welcome to annamulai\""
   ]
  },
  {
   "cell_type": "code",
   "execution_count": 24,
   "id": "663dbd0d-3452-4c2d-99f8-4c99aa7ce79e",
   "metadata": {},
   "outputs": [
    {
     "data": {
      "text/plain": [
       "str"
      ]
     },
     "execution_count": 24,
     "metadata": {},
     "output_type": "execute_result"
    }
   ],
   "source": [
    "type(str1)"
   ]
  },
  {
   "cell_type": "code",
   "execution_count": 27,
   "id": "34e4b8e5-404d-4598-856b-681e9c36c948",
   "metadata": {},
   "outputs": [
    {
     "ename": "TypeError",
     "evalue": "'str' object does not support item assignment",
     "output_type": "error",
     "traceback": [
      "\u001b[0;31m---------------------------------------------------------------------------\u001b[0m",
      "\u001b[0;31mTypeError\u001b[0m                                 Traceback (most recent call last)",
      "Cell \u001b[0;32mIn[27], line 2\u001b[0m\n\u001b[1;32m      1\u001b[0m \u001b[38;5;66;03m## string is immutanle\u001b[39;00m\n\u001b[0;32m----> 2\u001b[0m \u001b[43mstr1\u001b[49m\u001b[43m[\u001b[49m\u001b[38;5;241;43m0\u001b[39;49m\u001b[43m]\u001b[49m\u001b[38;5;241m=\u001b[39m\u001b[38;5;241m12\u001b[39m\n",
      "\u001b[0;31mTypeError\u001b[0m: 'str' object does not support item assignment"
     ]
    }
   ],
   "source": [
    "## string is immutable\n",
    "str1[0]=12"
   ]
  },
  {
   "cell_type": "code",
   "execution_count": 28,
   "id": "f330813e-353b-4486-9441-1a16b81bbcfd",
   "metadata": {},
   "outputs": [],
   "source": [
    "str1=\" prasad lande\""
   ]
  },
  {
   "cell_type": "code",
   "execution_count": 29,
   "id": "03432010-2137-4fa6-9cea-9a3419741911",
   "metadata": {},
   "outputs": [
    {
     "data": {
      "text/plain": [
       "' prasad lande'"
      ]
     },
     "execution_count": 29,
     "metadata": {},
     "output_type": "execute_result"
    }
   ],
   "source": [
    "str1"
   ]
  },
  {
   "cell_type": "code",
   "execution_count": 30,
   "id": "c2faa863-0a8c-4a68-a38f-849901d72e03",
   "metadata": {},
   "outputs": [],
   "source": [
    "welcome=\"home\""
   ]
  },
  {
   "cell_type": "code",
   "execution_count": 31,
   "id": "5324f433-94fe-4499-9f17-4d3913db4cee",
   "metadata": {},
   "outputs": [
    {
     "data": {
      "text/plain": [
       "['__add__',\n",
       " '__class__',\n",
       " '__contains__',\n",
       " '__delattr__',\n",
       " '__dir__',\n",
       " '__doc__',\n",
       " '__eq__',\n",
       " '__format__',\n",
       " '__ge__',\n",
       " '__getattribute__',\n",
       " '__getitem__',\n",
       " '__getnewargs__',\n",
       " '__gt__',\n",
       " '__hash__',\n",
       " '__init__',\n",
       " '__init_subclass__',\n",
       " '__iter__',\n",
       " '__le__',\n",
       " '__len__',\n",
       " '__lt__',\n",
       " '__mod__',\n",
       " '__mul__',\n",
       " '__ne__',\n",
       " '__new__',\n",
       " '__reduce__',\n",
       " '__reduce_ex__',\n",
       " '__repr__',\n",
       " '__rmod__',\n",
       " '__rmul__',\n",
       " '__setattr__',\n",
       " '__sizeof__',\n",
       " '__str__',\n",
       " '__subclasshook__',\n",
       " 'capitalize',\n",
       " 'casefold',\n",
       " 'center',\n",
       " 'count',\n",
       " 'encode',\n",
       " 'endswith',\n",
       " 'expandtabs',\n",
       " 'find',\n",
       " 'format',\n",
       " 'format_map',\n",
       " 'index',\n",
       " 'isalnum',\n",
       " 'isalpha',\n",
       " 'isascii',\n",
       " 'isdecimal',\n",
       " 'isdigit',\n",
       " 'isidentifier',\n",
       " 'islower',\n",
       " 'isnumeric',\n",
       " 'isprintable',\n",
       " 'isspace',\n",
       " 'istitle',\n",
       " 'isupper',\n",
       " 'join',\n",
       " 'ljust',\n",
       " 'lower',\n",
       " 'lstrip',\n",
       " 'maketrans',\n",
       " 'partition',\n",
       " 'removeprefix',\n",
       " 'removesuffix',\n",
       " 'replace',\n",
       " 'rfind',\n",
       " 'rindex',\n",
       " 'rjust',\n",
       " 'rpartition',\n",
       " 'rsplit',\n",
       " 'rstrip',\n",
       " 'split',\n",
       " 'splitlines',\n",
       " 'startswith',\n",
       " 'strip',\n",
       " 'swapcase',\n",
       " 'title',\n",
       " 'translate',\n",
       " 'upper',\n",
       " 'zfill']"
      ]
     },
     "execution_count": 31,
     "metadata": {},
     "output_type": "execute_result"
    }
   ],
   "source": [
    "dir(welcome)"
   ]
  },
  {
   "cell_type": "code",
   "execution_count": 32,
   "id": "9ac863bc-503a-4742-b835-cbac1ba4ca27",
   "metadata": {},
   "outputs": [],
   "source": [
    "string=\"prasad\""
   ]
  },
  {
   "cell_type": "code",
   "execution_count": 35,
   "id": "c1b0e6ad-a75e-4cfa-be48-2de10b28bb34",
   "metadata": {},
   "outputs": [
    {
     "data": {
      "text/plain": [
       "'sa'"
      ]
     },
     "execution_count": 35,
     "metadata": {},
     "output_type": "execute_result"
    }
   ],
   "source": [
    "## slice operation\n",
    "string[3:5]"
   ]
  },
  {
   "cell_type": "code",
   "execution_count": 36,
   "id": "41b6c8dd-763e-4343-ab62-aba860615a88",
   "metadata": {},
   "outputs": [
    {
     "data": {
      "text/plain": [
       "'d'"
      ]
     },
     "execution_count": 36,
     "metadata": {},
     "output_type": "execute_result"
    }
   ],
   "source": [
    "string[-1]"
   ]
  },
  {
   "cell_type": "code",
   "execution_count": 41,
   "id": "4a0951bc-e017-4c0a-964d-8e629e3201d0",
   "metadata": {},
   "outputs": [
    {
     "data": {
      "text/plain": [
       "'pra'"
      ]
     },
     "execution_count": 41,
     "metadata": {},
     "output_type": "execute_result"
    }
   ],
   "source": [
    "string[-6:-3]"
   ]
  },
  {
   "cell_type": "code",
   "execution_count": 44,
   "id": "a0094f53-887d-42b8-ad29-206bcf2d22cb",
   "metadata": {},
   "outputs": [
    {
     "data": {
      "text/plain": [
       "'prasad'"
      ]
     },
     "execution_count": 44,
     "metadata": {},
     "output_type": "execute_result"
    }
   ],
   "source": [
    "string[-7:7]"
   ]
  },
  {
   "cell_type": "code",
   "execution_count": 46,
   "id": "7772186a-d5ab-4234-a195-ae4d3d3e3ff8",
   "metadata": {},
   "outputs": [
    {
     "data": {
      "text/plain": [
       "'prasa'"
      ]
     },
     "execution_count": 46,
     "metadata": {},
     "output_type": "execute_result"
    }
   ],
   "source": [
    "string[:-1]"
   ]
  },
  {
   "cell_type": "code",
   "execution_count": 47,
   "id": "b70b4afc-0328-4177-885b-60b0ef2a7f90",
   "metadata": {},
   "outputs": [
    {
     "data": {
      "text/plain": [
       "'prasad'"
      ]
     },
     "execution_count": 47,
     "metadata": {},
     "output_type": "execute_result"
    }
   ],
   "source": [
    "string[:]"
   ]
  },
  {
   "cell_type": "code",
   "execution_count": 49,
   "id": "fccc8d27-5d6c-4c89-983e-ea41a4c0b01f",
   "metadata": {},
   "outputs": [
    {
     "data": {
      "text/plain": [
       "'dasarp'"
      ]
     },
     "execution_count": 49,
     "metadata": {},
     "output_type": "execute_result"
    }
   ],
   "source": [
    "string[::-1]"
   ]
  },
  {
   "cell_type": "code",
   "execution_count": 50,
   "id": "c570877f-1158-4a13-812c-00bd03f17062",
   "metadata": {},
   "outputs": [
    {
     "data": {
      "text/plain": [
       "'dsr'"
      ]
     },
     "execution_count": 50,
     "metadata": {},
     "output_type": "execute_result"
    }
   ],
   "source": [
    "string[::-2]"
   ]
  },
  {
   "cell_type": "code",
   "execution_count": 52,
   "id": "7eb5cc63-b91b-4c01-83b4-a66ac1504cf4",
   "metadata": {},
   "outputs": [
    {
     "data": {
      "text/plain": [
       "'asarp'"
      ]
     },
     "execution_count": 52,
     "metadata": {},
     "output_type": "execute_result"
    }
   ],
   "source": [
    "string[4::-1]"
   ]
  },
  {
   "cell_type": "code",
   "execution_count": 55,
   "id": "f7bc0ff6-4462-481d-b339-973c2b7b72a7",
   "metadata": {},
   "outputs": [],
   "source": [
    "course_name=\"Data science course\"\n"
   ]
  },
  {
   "cell_type": "code",
   "execution_count": 61,
   "id": "5984bdaf-9c32-448e-a705-021368b650a3",
   "metadata": {},
   "outputs": [
    {
     "data": {
      "text/plain": [
       "' science'"
      ]
     },
     "execution_count": 61,
     "metadata": {},
     "output_type": "execute_result"
    }
   ],
   "source": [
    "course_name[4:12]"
   ]
  },
  {
   "cell_type": "code",
   "execution_count": 65,
   "id": "a2212686-982a-46bc-aed9-7fcd41457f81",
   "metadata": {},
   "outputs": [
    {
     "data": {
      "text/plain": [
       "' ecneics'"
      ]
     },
     "execution_count": 65,
     "metadata": {},
     "output_type": "execute_result"
    }
   ],
   "source": [
    "course_name[12:4:-1]"
   ]
  },
  {
   "cell_type": "code",
   "execution_count": 66,
   "id": "90606749-2430-4312-9df0-e7d8fae78290",
   "metadata": {},
   "outputs": [
    {
     "data": {
      "text/plain": [
       "'Data science coursecourse'"
      ]
     },
     "execution_count": 66,
     "metadata": {},
     "output_type": "execute_result"
    }
   ],
   "source": [
    "## concatenation\n",
    "course_name + \"course\""
   ]
  },
  {
   "cell_type": "code",
   "execution_count": 67,
   "id": "953c8753-8b5d-46f5-a3ef-2c95da0a6b4c",
   "metadata": {},
   "outputs": [
    {
     "data": {
      "text/plain": [
       "' science'"
      ]
     },
     "execution_count": 67,
     "metadata": {},
     "output_type": "execute_result"
    }
   ],
   "source": [
    "course_name[4:12:1]"
   ]
  },
  {
   "cell_type": "code",
   "execution_count": 68,
   "id": "cf9c6f56-4cc8-4328-bbb7-46b4c41f9701",
   "metadata": {},
   "outputs": [
    {
     "name": "stdout",
     "output_type": "stream",
     "text": [
      "prasadLande\n"
     ]
    }
   ],
   "source": [
    "print(\"prasad\" + \"Lande\")"
   ]
  },
  {
   "cell_type": "code",
   "execution_count": 69,
   "id": "f46ad3dc-c4e2-454b-81bc-2b6e09669cab",
   "metadata": {},
   "outputs": [
    {
     "data": {
      "text/plain": [
       "19"
      ]
     },
     "execution_count": 69,
     "metadata": {},
     "output_type": "execute_result"
    }
   ],
   "source": [
    "len(course_name)"
   ]
  },
  {
   "cell_type": "code",
   "execution_count": 72,
   "id": "d97825b3-16b2-42ae-8f0e-c1f5ede480cc",
   "metadata": {},
   "outputs": [
    {
     "data": {
      "text/plain": [
       "5"
      ]
     },
     "execution_count": 72,
     "metadata": {},
     "output_type": "execute_result"
    }
   ],
   "source": [
    "## find function\n",
    "course_name.find(\"s\")"
   ]
  },
  {
   "cell_type": "code",
   "execution_count": 75,
   "id": "c90440a2-c136-4dbc-b073-c01184c41e0d",
   "metadata": {},
   "outputs": [
    {
     "data": {
      "text/plain": [
       "16"
      ]
     },
     "execution_count": 75,
     "metadata": {},
     "output_type": "execute_result"
    }
   ],
   "source": [
    "course_name.find(\"r\",3,18)"
   ]
  },
  {
   "cell_type": "code",
   "execution_count": 81,
   "id": "00b9263c-9340-43c1-a48c-bc2de8d28559",
   "metadata": {},
   "outputs": [
    {
     "data": {
      "text/plain": [
       "2"
      ]
     },
     "execution_count": 81,
     "metadata": {},
     "output_type": "execute_result"
    }
   ],
   "source": [
    "course_name.count(' ')"
   ]
  },
  {
   "cell_type": "markdown",
   "id": "2c3b34c3-6e22-424f-913a-3b812f967d56",
   "metadata": {},
   "source": [
    "## string split function"
   ]
  },
  {
   "cell_type": "code",
   "execution_count": 82,
   "id": "4eb0638a-46f1-485d-9456-24518f548250",
   "metadata": {},
   "outputs": [
    {
     "data": {
      "text/plain": [
       "['Data', 'science', 'course']"
      ]
     },
     "execution_count": 82,
     "metadata": {},
     "output_type": "execute_result"
    }
   ],
   "source": [
    "course_name.split(' ')"
   ]
  },
  {
   "cell_type": "code",
   "execution_count": 83,
   "id": "4157712c-a1c0-43cd-9892-0a962f3b1d38",
   "metadata": {},
   "outputs": [
    {
     "data": {
      "text/plain": [
       "['Data ', 'cience cour', 'e']"
      ]
     },
     "execution_count": 83,
     "metadata": {},
     "output_type": "execute_result"
    }
   ],
   "source": [
    "course_name.split('s')"
   ]
  },
  {
   "cell_type": "code",
   "execution_count": 85,
   "id": "d6a73642-7b9e-49fe-8643-b2930138f6ff",
   "metadata": {},
   "outputs": [
    {
     "data": {
      "text/plain": [
       "('Data ', 's', 'cience course')"
      ]
     },
     "execution_count": 85,
     "metadata": {},
     "output_type": "execute_result"
    }
   ],
   "source": [
    "course_name.partition('s')"
   ]
  },
  {
   "cell_type": "markdown",
   "id": "b7db4b8a-c3c2-4d7e-adba-e8fc7d0b7911",
   "metadata": {},
   "source": [
    "## string upper and lower case"
   ]
  },
  {
   "cell_type": "code",
   "execution_count": 86,
   "id": "39d63ff2-4d55-4201-aacb-f2249fff5f36",
   "metadata": {},
   "outputs": [
    {
     "data": {
      "text/plain": [
       "'DATA SCIENCE COURSE'"
      ]
     },
     "execution_count": 86,
     "metadata": {},
     "output_type": "execute_result"
    }
   ],
   "source": [
    "course_name.upper()"
   ]
  },
  {
   "cell_type": "code",
   "execution_count": 87,
   "id": "a79125ff-29e1-478d-955e-27308e5e3f84",
   "metadata": {},
   "outputs": [
    {
     "data": {
      "text/plain": [
       "'data science course'"
      ]
     },
     "execution_count": 87,
     "metadata": {},
     "output_type": "execute_result"
    }
   ],
   "source": [
    "course_name.lower()"
   ]
  },
  {
   "cell_type": "code",
   "execution_count": 88,
   "id": "745f056e-6974-4b26-8d47-d8f3c2c8f16b",
   "metadata": {},
   "outputs": [
    {
     "data": {
      "text/plain": [
       "'dATA SCIENCE COURSE'"
      ]
     },
     "execution_count": 88,
     "metadata": {},
     "output_type": "execute_result"
    }
   ],
   "source": [
    "course_name.swapcase()"
   ]
  },
  {
   "cell_type": "code",
   "execution_count": 89,
   "id": "048535cc-1d31-41e0-8bf1-c7e476879321",
   "metadata": {},
   "outputs": [
    {
     "data": {
      "text/plain": [
       "'Data Science Course'"
      ]
     },
     "execution_count": 89,
     "metadata": {},
     "output_type": "execute_result"
    }
   ],
   "source": [
    "course_name.title()"
   ]
  },
  {
   "cell_type": "code",
   "execution_count": 90,
   "id": "8eae3a7c-97a2-46fc-9391-b54c773f6221",
   "metadata": {},
   "outputs": [],
   "source": [
    "name = \"prasad lande\""
   ]
  },
  {
   "cell_type": "code",
   "execution_count": 91,
   "id": "38213ded-7779-461f-89f7-a464a1dc73a6",
   "metadata": {},
   "outputs": [
    {
     "data": {
      "text/plain": [
       "'Prasad Lande'"
      ]
     },
     "execution_count": 91,
     "metadata": {},
     "output_type": "execute_result"
    }
   ],
   "source": [
    "name.title()"
   ]
  },
  {
   "cell_type": "code",
   "execution_count": null,
   "id": "bff18cf3-4ead-411c-ba0a-54bc65dd059e",
   "metadata": {},
   "outputs": [],
   "source": []
  },
  {
   "cell_type": "code",
   "execution_count": null,
   "id": "67e8060c-b80d-414c-a700-58a14050ac6b",
   "metadata": {},
   "outputs": [],
   "source": []
  },
  {
   "cell_type": "code",
   "execution_count": null,
   "id": "bdcbe038-761b-4384-91c2-5a6b98915492",
   "metadata": {},
   "outputs": [],
   "source": []
  },
  {
   "cell_type": "code",
   "execution_count": null,
   "id": "f00d1344-387c-4bb1-8b0b-21249417a2e0",
   "metadata": {},
   "outputs": [],
   "source": []
  },
  {
   "cell_type": "code",
   "execution_count": null,
   "id": "24234617-2e7c-4705-b929-0457daa46c0f",
   "metadata": {},
   "outputs": [],
   "source": []
  },
  {
   "cell_type": "code",
   "execution_count": null,
   "id": "23ce91cc-7dec-4343-9deb-a88f9546abe3",
   "metadata": {},
   "outputs": [],
   "source": []
  },
  {
   "cell_type": "code",
   "execution_count": null,
   "id": "61f57c3f-6b04-47e5-ba6c-4e4616e6aa58",
   "metadata": {},
   "outputs": [],
   "source": []
  },
  {
   "cell_type": "code",
   "execution_count": null,
   "id": "c5560265-9d54-4011-8598-2221c5b62f16",
   "metadata": {},
   "outputs": [],
   "source": []
  },
  {
   "cell_type": "code",
   "execution_count": null,
   "id": "7b393a46-e341-48f4-9c80-797105dd66c8",
   "metadata": {},
   "outputs": [],
   "source": []
  },
  {
   "cell_type": "code",
   "execution_count": null,
   "id": "353ee88a-fc8f-4fb4-a64e-387554939e09",
   "metadata": {},
   "outputs": [],
   "source": []
  },
  {
   "cell_type": "code",
   "execution_count": null,
   "id": "056beb3b-488a-49e8-b6d0-6a00c7300335",
   "metadata": {},
   "outputs": [],
   "source": []
  },
  {
   "cell_type": "code",
   "execution_count": null,
   "id": "fc2819ae-d58a-4843-8b0a-5e077303252f",
   "metadata": {},
   "outputs": [],
   "source": []
  },
  {
   "cell_type": "code",
   "execution_count": null,
   "id": "3c2853b9-a5db-437b-a8f3-26e5e1dc2730",
   "metadata": {},
   "outputs": [],
   "source": []
  },
  {
   "cell_type": "code",
   "execution_count": null,
   "id": "7c935016-7691-46dc-9c6d-747b5ccb2843",
   "metadata": {},
   "outputs": [],
   "source": []
  }
 ],
 "metadata": {
  "kernelspec": {
   "display_name": "Python 3 (ipykernel)",
   "language": "python",
   "name": "python3"
  },
  "language_info": {
   "codemirror_mode": {
    "name": "ipython",
    "version": 3
   },
   "file_extension": ".py",
   "mimetype": "text/x-python",
   "name": "python",
   "nbconvert_exporter": "python",
   "pygments_lexer": "ipython3",
   "version": "3.10.8"
  }
 },
 "nbformat": 4,
 "nbformat_minor": 5
}
